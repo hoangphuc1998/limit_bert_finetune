{
 "cells": [
  {
   "cell_type": "code",
   "execution_count": 1,
   "id": "f02ba209",
   "metadata": {},
   "outputs": [
    {
     "name": "stderr",
     "output_type": "stream",
     "text": [
      "/home/phuctth/miniconda3/envs/limit-bert/lib/python3.8/site-packages/pytorch_lightning/metrics/__init__.py:43: LightningDeprecationWarning: `pytorch_lightning.metrics.*` module has been renamed to `torchmetrics.*` and split off to its own package (https://github.com/PyTorchLightning/metrics) since v1.3 and will be removed in v1.5\n",
      "  rank_zero_deprecation(\n"
     ]
    }
   ],
   "source": [
    "from transformers import AutoTokenizer\n",
    "from model import NERModel\n",
    "from dataset import CoNLLDataModule\n",
    "import pytorch_lightning as pl\n",
    "import json\n",
    "from argparse import Namespace"
   ]
  },
  {
   "cell_type": "code",
   "execution_count": 2,
   "id": "e1392126",
   "metadata": {},
   "outputs": [],
   "source": [
    "config = Namespace()\n",
    "vars(config).update(json.load(open(\"checkpoints/config.json\",\"r\")))\n",
    "tokenizer = AutoTokenizer.from_pretrained(\"bert-large-uncased\")\n",
    "model = NERModel.load_from_checkpoint(\"checkpoints/epoch=9-step=11709.ckpt\", config=config, tokenizer=tokenizer, test=True)"
   ]
  },
  {
   "cell_type": "code",
   "execution_count": 3,
   "id": "ba4c942e",
   "metadata": {},
   "outputs": [
    {
     "data": {
      "text/plain": [
       "[{'word': 'mahattan', 'score': 0.99996495, 'label': 'LOCATION'},\n",
       " {'word': 'sovia', 'score': 0.9997329, 'label': 'PERSON'}]"
      ]
     },
     "execution_count": 3,
     "metadata": {},
     "output_type": "execute_result"
    }
   ],
   "source": [
    "model(\"I moved to Mahattan last year with my sister, Sovia\")"
   ]
  },
  {
   "cell_type": "code",
   "execution_count": 4,
   "id": "2780ac08",
   "metadata": {},
   "outputs": [
    {
     "name": "stderr",
     "output_type": "stream",
     "text": [
      "GPU available: True, used: False\n",
      "TPU available: False, using: 0 TPU cores\n",
      "/home/phuctth/miniconda3/envs/limit-bert/lib/python3.8/site-packages/pytorch_lightning/trainer/connectors/accelerator_connector.py:596: UserWarning: GPU available but not used. Set the gpus flag in your trainer `Trainer(gpus=1)` or script `--gpus=1`.\n",
      "  rank_zero_warn(\n",
      "Reusing dataset conll2003 (/home/phuctth/.cache/huggingface/datasets/conll2003/conll2003/1.0.0/40e7cb6bcc374f7c349c83acd1e9352a4f09474eb691f64f364ee62eb65d0ca6)\n",
      "/home/phuctth/miniconda3/envs/limit-bert/lib/python3.8/site-packages/pytorch_lightning/trainer/data_loading.py:102: UserWarning: The dataloader, test dataloader 0, does not have many workers which may be a bottleneck. Consider increasing the value of the `num_workers` argument` (try 8 which is the number of cpus on this machine) in the `DataLoader` init to improve performance.\n",
      "  rank_zero_warn(\n"
     ]
    },
    {
     "data": {
      "application/vnd.jupyter.widget-view+json": {
       "model_id": "0db750bf25694ff19942b5dedd3aa0ce",
       "version_major": 2,
       "version_minor": 0
      },
      "text/plain": [
       "HBox(children=(FloatProgress(value=1.0, bar_style='info', description='Testing', layout=Layout(flex='2'), max=…"
      ]
     },
     "metadata": {},
     "output_type": "display_data"
    },
    {
     "name": "stdout",
     "output_type": "stream",
     "text": [
      "val/PER-F1: 0.967, val/ORG-F1: 0.887, val/LOC-F1: 0.925, val/MISC-F1: 0.795, \n",
      "F1: 0.9096040215186524\n",
      "\n",
      "--------------------------------------------------------------------------------\n",
      "DATALOADER:0 TEST RESULTS\n",
      "{}\n",
      "--------------------------------------------------------------------------------\n"
     ]
    },
    {
     "data": {
      "text/plain": [
       "[{}]"
      ]
     },
     "execution_count": 4,
     "metadata": {},
     "output_type": "execute_result"
    }
   ],
   "source": [
    "trainer = pl.Trainer()\n",
    "ner_dm = CoNLLDataModule(config, tokenizer)\n",
    "trainer.test(model, datamodule=ner_dm)"
   ]
  }
 ],
 "metadata": {
  "kernelspec": {
   "display_name": "Python 3",
   "language": "python",
   "name": "python3"
  },
  "language_info": {
   "codemirror_mode": {
    "name": "ipython",
    "version": 3
   },
   "file_extension": ".py",
   "mimetype": "text/x-python",
   "name": "python",
   "nbconvert_exporter": "python",
   "pygments_lexer": "ipython3",
   "version": "3.8.5"
  }
 },
 "nbformat": 4,
 "nbformat_minor": 5
}
